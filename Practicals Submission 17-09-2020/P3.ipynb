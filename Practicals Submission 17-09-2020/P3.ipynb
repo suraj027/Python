{
 "metadata": {
  "language_info": {
   "codemirror_mode": {
    "name": "ipython",
    "version": 3
   },
   "file_extension": ".py",
   "mimetype": "text/x-python",
   "name": "python",
   "nbconvert_exporter": "python",
   "pygments_lexer": "ipython3",
   "version": "3.8.6-candidate"
  },
  "orig_nbformat": 2,
  "kernelspec": {
   "name": "python_defaultSpec_1600343936484",
   "display_name": "Python 3.8.6 64-bit"
  }
 },
 "nbformat": 4,
 "nbformat_minor": 2,
 "cells": [
  {
   "cell_type": "code",
   "execution_count": 1,
   "metadata": {
    "tags": []
   },
   "outputs": [
    {
     "output_type": "stream",
     "name": "stdout",
     "text": "Enter only two numbers to find sum\nSum: 56\n"
    }
   ],
   "source": [
    "#Write a Program to read two integer numbers and find the sum of the numbers.\n",
    "print(\"Enter only two numbers to find sum\")\n",
    "num1=input(\"Enter a number: \")\n",
    "num2=input(\"Enter another number: \")\n",
    "sum=num1+num2\n",
    "print(\"Sum: \" +sum)"
   ]
  },
  {
   "cell_type": "code",
   "execution_count": null,
   "metadata": {},
   "outputs": [],
   "source": []
  }
 ]
}